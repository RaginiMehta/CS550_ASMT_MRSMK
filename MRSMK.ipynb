{
  "nbformat": 4,
  "nbformat_minor": 0,
  "metadata": {
    "colab": {
      "provenance": [],
      "collapsed_sections": [
        "oKdcyk1sMEtD",
        "-cGf99_CMV47",
        "lvdRoNqXMZlN",
        "MlOl6I0rMa68",
        "PsELnlXpMjGX",
        "D2kBZTiCMmsE",
        "gIYzXGtsMqmQ",
        "Uz4pEhW2MuBF",
        "Z_WeRBlDMwX2",
        "7Uk_G0K8M2H9",
        "bzTZZUlQM401"
      ]
    },
    "kernelspec": {
      "name": "python3",
      "display_name": "Python 3"
    },
    "language_info": {
      "name": "python"
    }
  },
  "cells": [
    {
      "cell_type": "markdown",
      "source": [
        "## **Medical Report Summarisation using Medical Knowledge**\n",
        "\n",
        "### **References**\n",
        "\n",
        "**Main Reference**\n",
        "- Radiology report generation with medical knowledge and multilevel image-report alignment: A new method and its verification\n",
        "https://www.sciencedirect.com/science/article/pii/S0933365723002282#bib1\n",
        "\n"
      ],
      "metadata": {
        "id": "Bnpd7Zh0NPl2"
      }
    },
    {
      "cell_type": "markdown",
      "source": [
        "## **Data Collection**"
      ],
      "metadata": {
        "id": "oKdcyk1sMEtD"
      }
    },
    {
      "cell_type": "markdown",
      "source": [
        "### **Collect Datasets**"
      ],
      "metadata": {
        "id": "p81rfgckMR9a"
      }
    },
    {
      "cell_type": "code",
      "source": [
        "'''Using Kaggle API to Download Datasets - Local Machine (Windows)'''\n",
        "\n",
        "# installing kaggle and kagglehub\n",
        "!pip install kaggle\n",
        "!pip install kagglehub\n",
        "\n",
        "# kaggle.json path must be set to C:\\Users\\<YourUsername>\\.kaggle\\kaggle.json\n",
        "\n",
        "# authenticating using kaggle api\n",
        "from kaggle.api.kaggle_api_extended import KaggleApi\n",
        "api = KaggleApi()\n",
        "api.authenticate()"
      ],
      "metadata": {
        "colab": {
          "base_uri": "https://localhost:8080/"
        },
        "id": "1I03qwm9cOtC",
        "outputId": "d13cf1fe-9e87-4fcc-cad7-365baca0327d"
      },
      "execution_count": 7,
      "outputs": [
        {
          "output_type": "stream",
          "name": "stdout",
          "text": [
            "ref                                                           title                                                size  lastUpdated          downloadCount  voteCount  usabilityRating  \n",
            "------------------------------------------------------------  --------------------------------------------------  -----  -------------------  -------------  ---------  ---------------  \n",
            "lainguyn123/student-performance-factors                       Student Performance Factors                          94KB  2024-09-02 10:53:57          27616        485  1.0              \n",
            "abdulszz/spotify-most-streamed-songs                          Spotify Most Streamed Songs                          60KB  2024-09-07 18:23:14          10453        138  1.0              \n",
            "valakhorasani/mobile-device-usage-and-user-behavior-dataset   Mobile Device Usage and User Behavior Dataset        11KB  2024-09-28 20:21:12           3209         66  1.0              \n",
            "thomasfranois/worlds-best-restaurants                         World's Best Restaurants                             10KB  2024-10-06 21:10:09           1203         29  1.0              \n",
            "valakhorasani/gym-members-exercise-dataset                    Gym Members Exercise Dataset                         22KB  2024-10-06 11:27:38           1140         33  1.0              \n",
            "waqi786/remote-work-and-mental-health                         Remote Work & Mental Health 🌍🧠                       93KB  2024-09-22 11:44:29           4396         74  1.0              \n",
            "owm4096/laptop-prices                                         Laptop Prices                                        25KB  2024-09-09 12:43:01           8686        126  1.0              \n",
            "ironwolf404/electric-vehicle-population-in-usa                Electric Vehicle Population in USA                    6MB  2024-10-05 12:06:02           1117         34  1.0              \n",
            "willianoliveiragibin/marvel-vs-dc                             Marvel vs DC                                        107KB  2024-09-26 22:51:04           1630         31  1.0              \n",
            "valakhorasani/electric-vehicle-charging-patterns              Electric Vehicle Charging Patterns                  130KB  2024-10-02 10:52:27           1491         45  1.0              \n",
            "waqi786/china-vs-japan                                        🚀 China vs Japan                                     75KB  2024-09-18 14:29:23            926         21  1.0              \n",
            "syedfaizanalii/predict-students-dropout-and-academic-success  Predict Students Dropout and Academic Success       105KB  2024-09-28 09:41:55           1512         52  1.0              \n",
            "daniilmiheev/top-spotify-podcasts-daily-updated               Top Spotify Podcast Episodes (Daily Updated)         99MB  2024-10-09 20:30:17            997         22  1.0              \n",
            "shreyasur965/recent-earthquakes                               Global Earthquake Data                              214KB  2024-09-19 16:18:55           1743         28  1.0              \n",
            "davinascimento/data-to-learn-data-science                     Fitness Tracking Data for Data Science Learning       1KB  2024-10-03 22:13:25            567         24  1.0              \n",
            "cameronseamons/electronic-sales-sep2023-sep2024               Customer purchase behavior - Electronic Sales Data  327KB  2024-09-23 01:54:36           3644         50  1.0              \n",
            "taweilo/mba-admission-dataset                                 MBA Admission dataset, Class 2025                    55KB  2024-09-18 07:57:38           4075         70  1.0              \n",
            "saurabhbadole/indian-stock-market-indices-daily-updates       Indian Stock Market Indices Daily Updates             1MB  2024-10-09 12:09:41            221         29  1.0              \n",
            "zongaobian/microsoft-stock-data-and-key-affiliated-companies  Microsoft Stock Data and Key Affiliated Companies     1MB  2024-10-05 03:36:33            586         25  1.0              \n",
            "asmonline/spotify-song-performance-dataset                    Spotify's Most Streamed Songs 2024                   55KB  2024-09-23 21:06:36           2116         28  0.9411765        \n"
          ]
        }
      ]
    },
    {
      "cell_type": "code",
      "source": [
        "'''Using Kaggle API to Download Datasets - Local Machine (MacOS/Linux)'''\n",
        "\n",
        "# installing kaggle and kagglehub\n",
        "!pip install kaggle\n",
        "!pip install kagglehub\n",
        "\n",
        "# kaggle.json path must be set to ~/.kaggle/kaggle.json\n",
        "\n",
        "# authenticating using kaggle api\n",
        "from kaggle.api.kaggle_api_extended import KaggleApi\n",
        "api = KaggleApi()\n",
        "api.authenticate()"
      ],
      "metadata": {
        "id": "YrKRKi6Hgquk"
      },
      "execution_count": null,
      "outputs": []
    },
    {
      "cell_type": "code",
      "source": [
        "'''Using Kaggle API to Download Datasets - Google Collaboratory'''\n",
        "\n",
        "# installing kaggle and kagglehub\n",
        "!pip install kaggle\n",
        "!pip install kagglehub\n",
        "\n",
        "# kaggle.json path must be uploaded to your python notebook\n",
        "\n",
        "# setup to use kaggle.json\n",
        "!mkdir -p ~/.kaggle\n",
        "!cp kaggle.json ~/.kaggle/\n",
        "!chmod 600 ~/.kaggle/kaggle.json"
      ],
      "metadata": {
        "id": "RzhV6_6ugtKD"
      },
      "execution_count": null,
      "outputs": []
    },
    {
      "cell_type": "code",
      "source": [
        "# Importing the Datasets\n",
        "import kagglehub\n",
        "\n",
        "# Mimic CXR Dataset\n",
        "mimic_cxr_df = kagglehub.dataset_download(\"wasifnafee/mimic-cxr\")\n",
        "print(\"Path to dataset files:\", mimic_cxr_df)\n",
        "\n",
        "# # IU X-Ray Dataset\n",
        "iu_xray_df = kagglehub.dataset_download(\"raddar/chest-xrays-indiana-university\")\n",
        "print(\"Path to dataset files:\", iu_xray_df)"
      ],
      "metadata": {
        "colab": {
          "base_uri": "https://localhost:8080/"
        },
        "id": "G-4Sec6mbBCk",
        "outputId": "f5e774f2-213b-4c66-e783-1557c68baa35"
      },
      "execution_count": 8,
      "outputs": [
        {
          "output_type": "stream",
          "name": "stdout",
          "text": [
            "Downloading from https://www.kaggle.com/api/v1/datasets/download/wasifnafee/mimic-cxr?dataset_version_number=1...\n"
          ]
        },
        {
          "output_type": "stream",
          "name": "stderr",
          "text": [
            "100%|██████████| 8.95M/8.95M [00:00<00:00, 41.2MB/s]"
          ]
        },
        {
          "output_type": "stream",
          "name": "stdout",
          "text": [
            "Extracting files...\n"
          ]
        },
        {
          "output_type": "stream",
          "name": "stderr",
          "text": [
            "\n"
          ]
        },
        {
          "output_type": "stream",
          "name": "stdout",
          "text": [
            "Path to dataset files: /root/.cache/kagglehub/datasets/wasifnafee/mimic-cxr/versions/1\n",
            "Downloading from https://www.kaggle.com/api/v1/datasets/download/raddar/chest-xrays-indiana-university?dataset_version_number=2...\n"
          ]
        },
        {
          "output_type": "stream",
          "name": "stderr",
          "text": [
            "100%|██████████| 13.2G/13.2G [03:06<00:00, 75.7MB/s]"
          ]
        },
        {
          "output_type": "stream",
          "name": "stdout",
          "text": [
            "Extracting files...\n"
          ]
        },
        {
          "output_type": "stream",
          "name": "stderr",
          "text": [
            "\n"
          ]
        },
        {
          "output_type": "stream",
          "name": "stdout",
          "text": [
            "Path to dataset files: /root/.cache/kagglehub/datasets/raddar/chest-xrays-indiana-university/versions/2\n"
          ]
        }
      ]
    },
    {
      "cell_type": "markdown",
      "source": [
        "## **Data Preprocessing**"
      ],
      "metadata": {
        "id": "6UouFxQwMNeo"
      }
    },
    {
      "cell_type": "markdown",
      "source": [
        "### **Preprocess Images**"
      ],
      "metadata": {
        "id": "-cGf99_CMV47"
      }
    },
    {
      "cell_type": "markdown",
      "source": [
        "### **Preprocess Text**"
      ],
      "metadata": {
        "id": "lvdRoNqXMZlN"
      }
    },
    {
      "cell_type": "markdown",
      "source": [
        "### **Create Data Loaders**"
      ],
      "metadata": {
        "id": "MlOl6I0rMa68"
      }
    },
    {
      "cell_type": "markdown",
      "source": [
        "## **Model Implementation**"
      ],
      "metadata": {
        "id": "wQ0H-X3HMgS1"
      }
    },
    {
      "cell_type": "markdown",
      "source": [
        "### **Visual Extractor**"
      ],
      "metadata": {
        "id": "PsELnlXpMjGX"
      }
    },
    {
      "cell_type": "markdown",
      "source": [
        "### **Text Encoder**"
      ],
      "metadata": {
        "id": "D2kBZTiCMmsE"
      }
    },
    {
      "cell_type": "markdown",
      "source": [
        "### **Multilevel Alignment**"
      ],
      "metadata": {
        "id": "gIYzXGtsMqmQ"
      }
    },
    {
      "cell_type": "markdown",
      "source": [
        "### **Report Generator**"
      ],
      "metadata": {
        "id": "Uz4pEhW2MuBF"
      }
    },
    {
      "cell_type": "markdown",
      "source": [
        "### **Complete Model**"
      ],
      "metadata": {
        "id": "Z_WeRBlDMwX2"
      }
    },
    {
      "cell_type": "markdown",
      "source": [
        "## **Training**"
      ],
      "metadata": {
        "id": "NZjhDeJxMzgg"
      }
    },
    {
      "cell_type": "markdown",
      "source": [
        "### **Training**"
      ],
      "metadata": {
        "id": "7Uk_G0K8M2H9"
      }
    },
    {
      "cell_type": "markdown",
      "source": [
        "## **Testing**"
      ],
      "metadata": {
        "id": "OXhkaJVvM3Uu"
      }
    },
    {
      "cell_type": "markdown",
      "source": [
        "### **Testing**"
      ],
      "metadata": {
        "id": "bzTZZUlQM401"
      }
    }
  ]
}