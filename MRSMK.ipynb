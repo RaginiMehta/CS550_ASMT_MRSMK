{
  "cells": [
    {
      "cell_type": "markdown",
      "metadata": {
        "id": "Bnpd7Zh0NPl2"
      },
      "source": [
        "## **Medical Report Summarisation using Medical Knowledge**\n",
        "\n",
        "### **References**\n",
        "\n",
        "**Main Reference**\n",
        "- Radiology report generation with medical knowledge and multilevel image-report alignment: A new method and its verification\n",
        "https://www.sciencedirect.com/science/article/pii/S0933365723002282#bib1\n",
        "\n"
      ]
    },
    {
      "cell_type": "markdown",
      "metadata": {
        "id": "oKdcyk1sMEtD"
      },
      "source": [
        "## **Data Collection**"
      ]
    },
    {
      "cell_type": "markdown",
      "metadata": {
        "id": "p81rfgckMR9a"
      },
      "source": [
        "### **Collect Datasets**"
      ]
    },
    {
      "cell_type": "code",
      "execution_count": null,
      "metadata": {
        "colab": {
          "base_uri": "https://localhost:8080/"
        },
        "id": "49-0xiXplwH8",
        "outputId": "d74e198a-6ff3-4efa-df51-e7aa8af0861e"
      },
      "outputs": [],
      "source": [
        "'''Setup - Generalized'''\n",
        "\n",
        "# importing required libraries\n",
        "import os\n",
        "import tarfile\n",
        "import requests\n",
        "\n",
        "\n",
        "# setup to download the IU X-Ray Dataset\n",
        "dataset = 'iu_xray/'\n",
        "download_path = os.path.join('./datasets/', dataset)\n",
        "\n",
        "images_dir = os.path.join(download_path, \"images\")\n",
        "reports_dir = os.path.join(download_path, \"reports\")\n",
        "\n",
        "images_url = \"https://openi.nlm.nih.gov/imgs/collections/NLMCXR_png.tgz\"\n",
        "reports_url = \"https://openi.nlm.nih.gov/imgs/collections/NLMCXR_reports.tgz\"\n",
        "\n",
        "\n",
        "# function to check the file size of a given URL\n",
        "def get_file_size(url):\n",
        "    response = requests.head(url)\n",
        "    size_in_bytes = int(response.headers.get('Content-Length', 0))\n",
        "    size_in_mb = size_in_bytes / (1024 * 1024)\n",
        "    return size_in_mb\n",
        "\n",
        "\n",
        "# function to download and extract from a given url to a given directory\n",
        "def download_and_extract(url, save_dir):\n",
        "    file_name = url.split('/')[-1]\n",
        "    file_path = os.path.join(save_dir, file_name)\n",
        "\n",
        "    response = requests.get(url, stream=True)\n",
        "    with open(file_path, 'wb') as file:\n",
        "        for chunk in response.iter_content(chunk_size=1024):\n",
        "            file.write(chunk)\n",
        "\n",
        "    with tarfile.open(file_path, 'r:gz') as tar:\n",
        "        tar.extractall(path=save_dir)\n",
        "\n",
        "    os.remove(file_path)\n",
        "\n",
        "\n",
        "# downloading  IU X-Ray dataset\n",
        "if not os.path.exists(images_dir):\n",
        "    images_size = get_file_size(images_url)\n",
        "    print(f\"Downloading {images_url} to: {images_dir} ({images_size:.2f} MB)\")\n",
        "    os.makedirs(images_dir, exist_ok=True)\n",
        "    download_and_extract(images_url, images_dir)\n",
        "    print(f\"Downloaded {images_url} to: {images_dir}\")\n",
        "else:\n",
        "    print(f\"{images_url} already exists at: {images_dir}\")\n",
        "\n",
        "if not os.path.exists(reports_dir):\n",
        "    reports_size = get_file_size(reports_url)\n",
        "    print(f\"Downloading {reports_url} to: {reports_dir} ({reports_size:.2f} MB)\")\n",
        "    os.makedirs(reports_dir, exist_ok=True)\n",
        "    download_and_extract(reports_url, reports_dir)\n",
        "    print(f\"Downloaded {reports_url} to: {reports_dir}\")\n",
        "else:\n",
        "    print(f\"{reports_url} already exists at: {reports_dir}\")"
      ]
    },
    {
      "cell_type": "code",
      "execution_count": null,
      "metadata": {
        "colab": {
          "base_uri": "https://localhost:8080/"
        },
        "id": "5ZSA8Jyowaoh",
        "outputId": "02234a03-2025-46af-9922-84750d0b6101"
      },
      "outputs": [],
      "source": [
        "'''Exploring the IU X-Ray Dataset Contents'''\n",
        "\n",
        "# displaying directory and subdirectory contents\n",
        "iu_xray = download_path\n",
        "print(\"\\nPath: \", iu_xray)\n",
        "print(f\"Directory Contents: {os.listdir(iu_xray)}\")\n",
        "\n",
        "iu_xray_images = images_dir\n",
        "print(\"\\nPath: \", iu_xray_images)\n",
        "print(f\"Directory Contents: {len(os.listdir(iu_xray_images))} Images\")\n",
        "\n",
        "iu_xray_reports = os.path.join(reports_dir, 'ecgen-radiology')\n",
        "print(\"\\nPath: \", iu_xray_reports)\n",
        "print(f\"Directory Contents: {len(os.listdir(iu_xray_reports))} Reports\")"
      ]
    },
    {
      "cell_type": "markdown",
      "metadata": {
        "id": "6UouFxQwMNeo"
      },
      "source": [
        "## **Data Preprocessing**"
      ]
    },
    {
      "cell_type": "markdown",
      "metadata": {
        "id": "-cGf99_CMV47"
      },
      "source": [
        "### **Preprocess Images**"
      ]
    },
    {
      "cell_type": "markdown",
      "metadata": {
        "id": "lvdRoNqXMZlN"
      },
      "source": [
        "### **Preprocess Text**"
      ]
    },
    {
      "cell_type": "markdown",
      "metadata": {
        "id": "MlOl6I0rMa68"
      },
      "source": [
        "### **Create Data Loaders**"
      ]
    },
    {
      "cell_type": "markdown",
      "metadata": {
        "id": "wQ0H-X3HMgS1"
      },
      "source": [
        "## **Model Implementation**"
      ]
    },
    {
      "cell_type": "markdown",
      "metadata": {
        "id": "PsELnlXpMjGX"
      },
      "source": [
        "### **Visual Extractor**"
      ]
    },
    {
      "cell_type": "markdown",
      "metadata": {
        "id": "D2kBZTiCMmsE"
      },
      "source": [
        "### **Text Encoder**"
      ]
    },
    {
      "cell_type": "markdown",
      "metadata": {
        "id": "gIYzXGtsMqmQ"
      },
      "source": [
        "### **Multilevel Alignment**"
      ]
    },
    {
      "cell_type": "markdown",
      "metadata": {
        "id": "Uz4pEhW2MuBF"
      },
      "source": [
        "### **Report Generator**"
      ]
    },
    {
      "cell_type": "markdown",
      "metadata": {
        "id": "Z_WeRBlDMwX2"
      },
      "source": [
        "### **Complete Model**"
      ]
    },
    {
      "cell_type": "markdown",
      "metadata": {
        "id": "NZjhDeJxMzgg"
      },
      "source": [
        "## **Training**"
      ]
    },
    {
      "cell_type": "markdown",
      "metadata": {
        "id": "7Uk_G0K8M2H9"
      },
      "source": [
        "### **Training**"
      ]
    },
    {
      "cell_type": "markdown",
      "metadata": {
        "id": "OXhkaJVvM3Uu"
      },
      "source": [
        "## **Testing**"
      ]
    },
    {
      "cell_type": "markdown",
      "metadata": {
        "id": "bzTZZUlQM401"
      },
      "source": [
        "### **Testing**"
      ]
    }
  ],
  "metadata": {
    "colab": {
      "collapsed_sections": [
        "-cGf99_CMV47",
        "lvdRoNqXMZlN",
        "MlOl6I0rMa68",
        "PsELnlXpMjGX",
        "D2kBZTiCMmsE",
        "gIYzXGtsMqmQ",
        "Uz4pEhW2MuBF",
        "Z_WeRBlDMwX2",
        "7Uk_G0K8M2H9",
        "bzTZZUlQM401"
      ],
      "provenance": []
    },
    "kernelspec": {
      "display_name": "Python 3",
      "name": "python3"
    },
    "language_info": {
      "codemirror_mode": {
        "name": "ipython",
        "version": 3
      },
      "file_extension": ".py",
      "mimetype": "text/x-python",
      "name": "python",
      "nbconvert_exporter": "python",
      "pygments_lexer": "ipython3",
      "version": "3.12.3"
    }
  },
  "nbformat": 4,
  "nbformat_minor": 0
}
