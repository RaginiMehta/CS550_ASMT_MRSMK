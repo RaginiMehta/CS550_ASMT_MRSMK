{
  "nbformat": 4,
  "nbformat_minor": 0,
  "metadata": {
    "colab": {
      "provenance": [],
      "collapsed_sections": [
        "oKdcyk1sMEtD",
        "-cGf99_CMV47",
        "lvdRoNqXMZlN",
        "MlOl6I0rMa68",
        "PsELnlXpMjGX",
        "D2kBZTiCMmsE",
        "gIYzXGtsMqmQ",
        "Uz4pEhW2MuBF",
        "Z_WeRBlDMwX2",
        "7Uk_G0K8M2H9",
        "bzTZZUlQM401"
      ],
      "toc_visible": true
    },
    "kernelspec": {
      "name": "python3",
      "display_name": "Python 3"
    },
    "language_info": {
      "name": "python"
    }
  },
  "cells": [
    {
      "cell_type": "markdown",
      "source": [
        "## **Medical Report Summarisation using Medical Knowledge**\n",
        "\n",
        "### **References**\n",
        "\n",
        "**Main Reference**\n",
        "- Radiology report generation with medical knowledge and multilevel image-report alignment: A new method and its verification\n",
        "https://www.sciencedirect.com/science/article/pii/S0933365723002282#bib1\n",
        "\n"
      ],
      "metadata": {
        "id": "Bnpd7Zh0NPl2"
      }
    },
    {
      "cell_type": "markdown",
      "source": [
        "## **Data Collection**"
      ],
      "metadata": {
        "id": "oKdcyk1sMEtD"
      }
    },
    {
      "cell_type": "markdown",
      "source": [
        "### **Collect Datasets**"
      ],
      "metadata": {
        "id": "p81rfgckMR9a"
      }
    },
    {
      "cell_type": "markdown",
      "source": [
        "## **Data Preprocessing**"
      ],
      "metadata": {
        "id": "6UouFxQwMNeo"
      }
    },
    {
      "cell_type": "markdown",
      "source": [
        "### **Preprocess Images**"
      ],
      "metadata": {
        "id": "-cGf99_CMV47"
      }
    },
    {
      "cell_type": "markdown",
      "source": [
        "### **Preprocess Text**"
      ],
      "metadata": {
        "id": "lvdRoNqXMZlN"
      }
    },
    {
      "cell_type": "markdown",
      "source": [
        "### **Create Data Loaders**"
      ],
      "metadata": {
        "id": "MlOl6I0rMa68"
      }
    },
    {
      "cell_type": "markdown",
      "source": [
        "## **Model Implementation**"
      ],
      "metadata": {
        "id": "wQ0H-X3HMgS1"
      }
    },
    {
      "cell_type": "markdown",
      "source": [
        "### **Visual Extractor**"
      ],
      "metadata": {
        "id": "PsELnlXpMjGX"
      }
    },
    {
      "cell_type": "markdown",
      "source": [
        "### **Text Encoder**"
      ],
      "metadata": {
        "id": "D2kBZTiCMmsE"
      }
    },
    {
      "cell_type": "markdown",
      "source": [
        "### **Multilevel Alignment**"
      ],
      "metadata": {
        "id": "gIYzXGtsMqmQ"
      }
    },
    {
      "cell_type": "markdown",
      "source": [
        "### **Report Generator**"
      ],
      "metadata": {
        "id": "Uz4pEhW2MuBF"
      }
    },
    {
      "cell_type": "markdown",
      "source": [
        "### **Complete Model**"
      ],
      "metadata": {
        "id": "Z_WeRBlDMwX2"
      }
    },
    {
      "cell_type": "markdown",
      "source": [
        "## **Training**"
      ],
      "metadata": {
        "id": "NZjhDeJxMzgg"
      }
    },
    {
      "cell_type": "markdown",
      "source": [
        "### **Training**"
      ],
      "metadata": {
        "id": "7Uk_G0K8M2H9"
      }
    },
    {
      "cell_type": "markdown",
      "source": [
        "## **Testing**"
      ],
      "metadata": {
        "id": "OXhkaJVvM3Uu"
      }
    },
    {
      "cell_type": "markdown",
      "source": [
        "### **Testing**"
      ],
      "metadata": {
        "id": "bzTZZUlQM401"
      }
    }
  ]
}