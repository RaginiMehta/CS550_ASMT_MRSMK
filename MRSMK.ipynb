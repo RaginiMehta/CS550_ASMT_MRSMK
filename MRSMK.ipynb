{
  "cells": [
    {
      "cell_type": "markdown",
      "metadata": {
        "id": "Bnpd7Zh0NPl2"
      },
      "source": [
        "## **Medical Report Summarisation using Medical Knowledge**\n",
        "\n",
        "### **References**\n",
        "\n",
        "**Main Reference**\n",
        "- Radiology report generation with medical knowledge and multilevel image-report alignment: A new method and its verification\n",
        "https://www.sciencedirect.com/science/article/pii/S0933365723002282#bib1\n",
        "\n"
      ]
    },
    {
      "cell_type": "markdown",
      "metadata": {
        "id": "oKdcyk1sMEtD"
      },
      "source": [
        "## **Data Collection**"
      ]
    },
    {
      "cell_type": "markdown",
      "metadata": {
        "id": "p81rfgckMR9a"
      },
      "source": [
        "### **Collect Datasets**"
      ]
    },
    {
      "cell_type": "code",
      "execution_count": null,
      "metadata": {
        "colab": {
          "base_uri": "https://localhost:8080/"
        },
        "id": "49-0xiXplwH8",
        "outputId": "f16629e1-5de3-467a-cce3-0a12934ae246"
      },
      "outputs": [],
      "source": [
        "'''Setup - Generalized'''\n",
        "\n",
        "# importing required libraries\n",
        "import os\n",
        "import tarfile\n",
        "import requests\n",
        "\n",
        "\n",
        "# setup to download the IU X-Ray Dataset\n",
        "dataset = 'iu_xray/'\n",
        "download_path = os.path.join('./datasets/', dataset)\n",
        "\n",
        "images_dir = os.path.join(download_path, \"images\")\n",
        "reports_dir = os.path.join(download_path, \"reports\")\n",
        "\n",
        "images_url = \"https://openi.nlm.nih.gov/imgs/collections/NLMCXR_png.tgz\"\n",
        "reports_url = \"https://openi.nlm.nih.gov/imgs/collections/NLMCXR_reports.tgz\"\n",
        "\n",
        "\n",
        "# function to check the file size of a given URL\n",
        "def get_file_size(url):\n",
        "    response = requests.head(url)\n",
        "    size_in_bytes = int(response.headers.get('Content-Length', 0))\n",
        "    size_in_mb = size_in_bytes / (1024 * 1024)\n",
        "    return size_in_mb\n",
        "\n",
        "\n",
        "# function to download and extract from a given url to a given directory\n",
        "def download_and_extract(url, save_dir):\n",
        "    file_name = url.split('/')[-1]\n",
        "    file_path = os.path.join(save_dir, file_name)\n",
        "\n",
        "    response = requests.get(url, stream=True)\n",
        "    with open(file_path, 'wb') as file:\n",
        "        for chunk in response.iter_content(chunk_size=1024):\n",
        "            file.write(chunk)\n",
        "\n",
        "    with tarfile.open(file_path, 'r:gz') as tar:\n",
        "        members = tar.getmembers()\n",
        "        total_files = len(members)\n",
        "\n",
        "        for idx, member in enumerate(members, start=1):\n",
        "            tar.extract(member, path=save_dir)\n",
        "            print(f\"Extracting File {idx} out of {total_files}: {member.name}\")\n",
        "\n",
        "    os.remove(file_path)\n",
        "\n",
        "\n",
        "# downloading  IU X-Ray dataset\n",
        "if not os.path.exists(images_dir):\n",
        "    images_size = get_file_size(images_url)\n",
        "    print(f\"Downloading {images_url} to: {images_dir} ({images_size:.2f} MB)\")\n",
        "    os.makedirs(images_dir, exist_ok=True)\n",
        "    download_and_extract(images_url, images_dir)\n",
        "    print(f\"Downloaded {images_url} to: {images_dir}\")\n",
        "else:\n",
        "    print(f\"{images_url} already exists at: {images_dir}\")\n",
        "\n",
        "if not os.path.exists(reports_dir):\n",
        "    reports_size = get_file_size(reports_url)\n",
        "    print(f\"Downloading {reports_url} to: {reports_dir} ({reports_size:.2f} MB)\")\n",
        "    os.makedirs(reports_dir, exist_ok=True)\n",
        "    download_and_extract(reports_url, reports_dir)\n",
        "    print(f\"Downloaded {reports_url} to: {reports_dir}\")\n",
        "else:\n",
        "    print(f\"{reports_url} already exists at: {reports_dir}\")"
      ]
    },
    {
      "cell_type": "code",
      "execution_count": null,
      "metadata": {
        "colab": {
          "base_uri": "https://localhost:8080/"
        },
        "id": "5ZSA8Jyowaoh",
        "outputId": "d1089b51-54c0-4672-e368-8c00c252267e"
      },
      "outputs": [],
      "source": [
        "'''Exploring the IU X-Ray Dataset Contents'''\n",
        "\n",
        "# displaying directory and subdirectory contents\n",
        "iu_xray = download_path\n",
        "print(\"\\nPath: \", iu_xray)\n",
        "print(f\"Directory Contents: {os.listdir(iu_xray)}\")\n",
        "\n",
        "iu_xray_images = images_dir\n",
        "print(\"\\nPath: \", iu_xray_images)\n",
        "print(f\"Directory Contents: {len(os.listdir(iu_xray_images))} Images\")\n",
        "\n",
        "iu_xray_reports = os.path.join(reports_dir, 'ecgen-radiology')\n",
        "print(\"\\nPath: \", iu_xray_reports)\n",
        "print(f\"Directory Contents: {len(os.listdir(iu_xray_reports))} Reports\")"
      ]
    },
    {
      "cell_type": "markdown",
      "metadata": {
        "id": "6UouFxQwMNeo"
      },
      "source": [
        "## **Data Preprocessing**"
      ]
    },
    {
      "cell_type": "markdown",
      "metadata": {
        "id": "-cGf99_CMV47"
      },
      "source": [
        "### **Preprocess Images**"
      ]
    },
    {
      "cell_type": "code",
      "execution_count": null,
      "metadata": {
        "colab": {
          "base_uri": "https://localhost:8080/"
        },
        "id": "JTClOSxeSCOM",
        "outputId": "d1fb35c0-bf46-4c19-c270-9736328399df"
      },
      "outputs": [],
      "source": [
        "'''Preprocessing Images - Resizing and Normalization'''\n",
        "\n",
        "# importing required libraries\n",
        "import os\n",
        "from PIL import Image\n",
        "import torchvision.transforms as transforms\n",
        "\n",
        "\n",
        "# finding minimum dimensions of images\n",
        "def find_min_dimensions(image_dir):\n",
        "    min_width = float('inf')\n",
        "    min_height = float('inf')\n",
        "\n",
        "    for filename in os.listdir(image_dir):\n",
        "        if filename.endswith('.png'):\n",
        "            img_path = os.path.join(image_dir, filename)\n",
        "            with Image.open(img_path) as img:\n",
        "                width, height = img.size\n",
        "                min_width = min(min_width, width)\n",
        "                min_height = min(min_height, height)\n",
        "\n",
        "    return min_width, min_height\n",
        "\n",
        "\n",
        "# preprocessing images and saving them to new directory\n",
        "def preprocess_images(input_dir, output_dir):\n",
        "    min_width, min_height = find_min_dimensions(iu_xray_images)\n",
        "    print(f'Minimum Width: {min_width}, Minimum Height: {min_height}\\n')\n",
        "\n",
        "    preprocess = transforms.Compose([\n",
        "        transforms.Resize((min_width, min_height)),\n",
        "        transforms.Normalize(mean=[0.485, 0.456, 0.406], std=[0.229, 0.224, 0.225]),\n",
        "    ])\n",
        "\n",
        "    os.makedirs(output_dir, exist_ok=True)\n",
        "\n",
        "    cnt = 0\n",
        "    for filename in os.listdir(input_dir):\n",
        "        if filename.endswith('.png'):\n",
        "            cnt += 1\n",
        "            print(f\"Preprocessing File {cnt} out of {len(os.listdir(input_dir))}: {filename}\")\n",
        "\n",
        "            image_path = os.path.join(input_dir, filename)\n",
        "            image = Image.open(image_path).convert('RGB')\n",
        "            processed_image = preprocess(image)\n",
        "\n",
        "            processed_image_path = os.path.join(output_dir, filename)\n",
        "\n",
        "            processed_image_pil = transforms.ToPILImage()(processed_image)\n",
        "            processed_image_pil.save(processed_image_path)\n",
        "\n",
        "iu_xray_images_preprocessed = os.path.join(iu_xray, 'images_preprocessed')\n",
        "\n",
        "if not os.path.exists(iu_xray_images_preprocessed):\n",
        "    print(f\"Preprocessing Images to: {iu_xray_images_preprocessed}\")\n",
        "    preprocess_images(iu_xray_images, iu_xray_images_preprocessed)\n",
        "    print(f\"Preprocessed Images saved to: {iu_xray_images_preprocessed}\")\n",
        "else :\n",
        "    print(f\"Preprocessed Images already exist at: {iu_xray_images_preprocessed}\")"
      ]
    },
    {
      "cell_type": "markdown",
      "metadata": {
        "id": "lvdRoNqXMZlN"
      },
      "source": [
        "### **Preprocess Text**"
      ]
    },
    {
      "cell_type": "code",
      "execution_count": null,
      "metadata": {
        "colab": {
          "base_uri": "https://localhost:8080/"
        },
        "id": "qGczexPLUaN5",
        "outputId": "ed4ee96b-aab7-4828-ec0d-7d6274a0cb80"
      },
      "outputs": [],
      "source": [
        "'''Processing Textual Data from each .xml Report File and Storing it in a .csv File'''\n",
        "\n",
        "# importing required libraries\n",
        "import os\n",
        "import xml.etree.ElementTree as ET\n",
        "import pandas as pd\n",
        "import cv2\n",
        "\n",
        "\n",
        "# iterating through all .xml report files and storing them in a dataframe\n",
        "data = []\n",
        "cnt = 0\n",
        "for file in os.listdir(iu_xray_reports):\n",
        "    if file.endswith(\".xml\"):\n",
        "        cnt += 1\n",
        "        print(f\"Processing .xml File {cnt} out of {len(os.listdir(iu_xray_reports))}: {file}\")\n",
        "\n",
        "        file_path = os.path.join(iu_xray_reports, file)\n",
        "        try:\n",
        "            tree = ET.parse(file_path)\n",
        "            root = tree.getroot()\n",
        "\n",
        "            comparison = indication = findings = impression = None\n",
        "\n",
        "            for abstract in root.findall('.//AbstractText'):\n",
        "                if abstract.attrib.get('Label') == 'COMPARISON':\n",
        "                    comparison = abstract.text\n",
        "                elif abstract.attrib.get('Label') == 'INDICATION':\n",
        "                    indication = abstract.text\n",
        "                elif abstract.attrib.get('Label') == 'FINDINGS':\n",
        "                    findings = abstract.text\n",
        "                elif abstract.attrib.get('Label') == 'IMPRESSION':\n",
        "                    impression = abstract.text\n",
        "\n",
        "            for parent_image in root.findall('parentImage'):\n",
        "                image_file = parent_image.attrib['id'] + \".png\"\n",
        "                image_path = os.path.join(iu_xray_images, image_file)\n",
        "                image = cv2.imread(image_path)\n",
        "\n",
        "                if image is not None:\n",
        "                    height, width, channels = image.shape\n",
        "                    caption = parent_image.find('caption').text if parent_image.find('caption') is not None else None\n",
        "                    data.append([image_file, caption, comparison, indication, findings, impression, height, width])\n",
        "                else:\n",
        "                    print(f\"Warning: Unable to read image {image_path}\")\n",
        "\n",
        "        except Exception as e:\n",
        "            print(f\"Error processing file {file}: {e}\")\n",
        "\n",
        "\n",
        "# create DataFrame from the collected data\n",
        "columns = ['image_filename', 'caption', 'comparison', 'indication', 'findings', 'impression', 'height', 'width']\n",
        "iu_xray_df = pd.DataFrame(data, columns=columns)\n",
        "\n",
        "\n",
        "# save dataframe as .csv file\n",
        "iu_xray_csv = os.path.join(iu_xray, 'iu_xray_data.csv')\n",
        "iu_xray_df.to_csv(iu_xray_csv, index=False)\n",
        "print(f\"Dataframe saved to {iu_xray_csv}\")"
      ]
    },
    {
      "cell_type": "code",
      "execution_count": null,
      "metadata": {
        "colab": {
          "base_uri": "https://localhost:8080/",
          "height": 761
        },
        "id": "GNAwM2t6e3R8",
        "outputId": "02e351c8-a678-4263-db1a-16af86a4cace"
      },
      "outputs": [],
      "source": [
        "'''Displaying the Stored .csv File'''\n",
        "\n",
        "# display the stored dataframe\n",
        "print(\"\\n\\nDataframe Shape:\\n\")\n",
        "display(iu_xray_df.shape)\n",
        "\n",
        "print(\"\\n\\nDataframe Information:\\n\")\n",
        "display(iu_xray_df.info())\n",
        "\n",
        "print(\"\\n\\nDisplaying Dataframe:\\n\")\n",
        "display(iu_xray_df.head())"
      ]
    },
    {
      "cell_type": "markdown",
      "metadata": {
        "id": "MlOl6I0rMa68"
      },
      "source": [
        "### **Create Data Loaders**"
      ]
    },
    {
      "cell_type": "markdown",
      "metadata": {
        "id": "wQ0H-X3HMgS1"
      },
      "source": [
        "## **Model Implementation**"
      ]
    },
    {
      "cell_type": "markdown",
      "metadata": {
        "id": "PsELnlXpMjGX"
      },
      "source": [
        "### **Visual Extractor**"
      ]
    },
    {
      "cell_type": "markdown",
      "metadata": {
        "id": "D2kBZTiCMmsE"
      },
      "source": [
        "### **Text Encoder**"
      ]
    },
    {
      "cell_type": "markdown",
      "metadata": {
        "id": "gIYzXGtsMqmQ"
      },
      "source": [
        "### **Multilevel Alignment**"
      ]
    },
    {
      "cell_type": "markdown",
      "metadata": {
        "id": "Uz4pEhW2MuBF"
      },
      "source": [
        "### **Report Generator**"
      ]
    },
    {
      "cell_type": "markdown",
      "metadata": {
        "id": "Z_WeRBlDMwX2"
      },
      "source": [
        "### **Complete Model**"
      ]
    },
    {
      "cell_type": "markdown",
      "metadata": {
        "id": "NZjhDeJxMzgg"
      },
      "source": [
        "## **Training**"
      ]
    },
    {
      "cell_type": "markdown",
      "metadata": {
        "id": "7Uk_G0K8M2H9"
      },
      "source": [
        "### **Training**"
      ]
    },
    {
      "cell_type": "markdown",
      "metadata": {
        "id": "OXhkaJVvM3Uu"
      },
      "source": [
        "## **Testing**"
      ]
    },
    {
      "cell_type": "markdown",
      "metadata": {
        "id": "bzTZZUlQM401"
      },
      "source": [
        "### **Testing**"
      ]
    }
  ],
  "metadata": {
    "colab": {
      "collapsed_sections": [
        "MlOl6I0rMa68",
        "PsELnlXpMjGX",
        "D2kBZTiCMmsE",
        "gIYzXGtsMqmQ",
        "Uz4pEhW2MuBF",
        "Z_WeRBlDMwX2",
        "7Uk_G0K8M2H9",
        "bzTZZUlQM401"
      ],
      "provenance": []
    },
    "kernelspec": {
      "display_name": "Python 3",
      "name": "python3"
    },
    "language_info": {
      "codemirror_mode": {
        "name": "ipython",
        "version": 3
      },
      "file_extension": ".py",
      "mimetype": "text/x-python",
      "name": "python",
      "nbconvert_exporter": "python",
      "pygments_lexer": "ipython3",
      "version": "3.12.3"
    }
  },
  "nbformat": 4,
  "nbformat_minor": 0
}
